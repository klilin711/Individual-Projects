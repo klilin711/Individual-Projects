{
 "cells": [
  {
   "cell_type": "code",
   "execution_count": 3,
   "metadata": {},
   "outputs": [],
   "source": [
    "import numpy as np\n",
    "import pandas as pd\n",
    "import seaborn as sns\n",
    "import matplotlib.pyplot as plt\n",
    "import seaborn as sns"
   ]
  },
  {
   "cell_type": "code",
   "execution_count": 4,
   "metadata": {},
   "outputs": [],
   "source": [
    "data = pd.read_csv(r'project_data/train_dataset.csv')\n",
    "test = pd.read_csv(r'project_data/test_dataset.csv')"
   ]
  },
  {
   "cell_type": "code",
   "execution_count": 5,
   "metadata": {},
   "outputs": [
    {
     "name": "stdout",
     "output_type": "stream",
     "text": [
      "<class 'pandas.core.frame.DataFrame'>\n",
      "RangeIndex: 3004 entries, 0 to 3003\n",
      "Data columns (total 27 columns):\n",
      " #   Column                     Non-Null Count  Dtype  \n",
      "---  ------                     --------------  -----  \n",
      " 0   id                         3004 non-null   int64  \n",
      " 1   director_name              3004 non-null   object \n",
      " 2   num_critic_for_reviews     3004 non-null   int64  \n",
      " 3   duration                   3004 non-null   int64  \n",
      " 4   director_facebook_likes    3004 non-null   int64  \n",
      " 5   actor_3_facebook_likes     3004 non-null   int64  \n",
      " 6   actor_2_name               3004 non-null   object \n",
      " 7   actor_1_facebook_likes     3004 non-null   int64  \n",
      " 8   gross                      3004 non-null   int64  \n",
      " 9   genres                     3004 non-null   object \n",
      " 10  actor_1_name               3004 non-null   object \n",
      " 11  movie_title                3004 non-null   object \n",
      " 12  num_voted_users            3004 non-null   int64  \n",
      " 13  cast_total_facebook_likes  3004 non-null   int64  \n",
      " 14  actor_3_name               3004 non-null   object \n",
      " 15  facenumber_in_poster       3004 non-null   int64  \n",
      " 16  plot_keywords              3004 non-null   object \n",
      " 17  num_user_for_reviews       3004 non-null   int64  \n",
      " 18  language                   3004 non-null   object \n",
      " 19  country                    3004 non-null   object \n",
      " 20  content_rating             3004 non-null   object \n",
      " 21  title_year                 3004 non-null   int64  \n",
      " 22  actor_2_facebook_likes     3004 non-null   int64  \n",
      " 23  movie_facebook_likes       3004 non-null   int64  \n",
      " 24  title_embedding            3004 non-null   object \n",
      " 25  average_degree_centrality  3004 non-null   float64\n",
      " 26  imdb_score_binned          3004 non-null   int64  \n",
      "dtypes: float64(1), int64(15), object(11)\n",
      "memory usage: 633.8+ KB\n"
     ]
    }
   ],
   "source": [
    "data.info()"
   ]
  },
  {
   "cell_type": "code",
   "execution_count": 6,
   "metadata": {},
   "outputs": [
    {
     "data": {
      "text/html": [
       "<div>\n",
       "<style scoped>\n",
       "    .dataframe tbody tr th:only-of-type {\n",
       "        vertical-align: middle;\n",
       "    }\n",
       "\n",
       "    .dataframe tbody tr th {\n",
       "        vertical-align: top;\n",
       "    }\n",
       "\n",
       "    .dataframe thead th {\n",
       "        text-align: right;\n",
       "    }\n",
       "</style>\n",
       "<table border=\"1\" class=\"dataframe\">\n",
       "  <thead>\n",
       "    <tr style=\"text-align: right;\">\n",
       "      <th></th>\n",
       "      <th>id</th>\n",
       "      <th>director_name</th>\n",
       "      <th>num_critic_for_reviews</th>\n",
       "      <th>duration</th>\n",
       "      <th>director_facebook_likes</th>\n",
       "      <th>actor_3_facebook_likes</th>\n",
       "      <th>actor_2_name</th>\n",
       "      <th>actor_1_facebook_likes</th>\n",
       "      <th>gross</th>\n",
       "      <th>genres</th>\n",
       "      <th>...</th>\n",
       "      <th>num_user_for_reviews</th>\n",
       "      <th>language</th>\n",
       "      <th>country</th>\n",
       "      <th>content_rating</th>\n",
       "      <th>title_year</th>\n",
       "      <th>actor_2_facebook_likes</th>\n",
       "      <th>movie_facebook_likes</th>\n",
       "      <th>title_embedding</th>\n",
       "      <th>average_degree_centrality</th>\n",
       "      <th>imdb_score_binned</th>\n",
       "    </tr>\n",
       "  </thead>\n",
       "  <tbody>\n",
       "    <tr>\n",
       "      <th>0</th>\n",
       "      <td>1</td>\n",
       "      <td>Roger Allers</td>\n",
       "      <td>186</td>\n",
       "      <td>73</td>\n",
       "      <td>28</td>\n",
       "      <td>847</td>\n",
       "      <td>Nathan Lane</td>\n",
       "      <td>2000</td>\n",
       "      <td>422783777</td>\n",
       "      <td>Adventure|Animation|Drama|Family|Musical</td>\n",
       "      <td>...</td>\n",
       "      <td>656</td>\n",
       "      <td>English</td>\n",
       "      <td>USA</td>\n",
       "      <td>G</td>\n",
       "      <td>1994</td>\n",
       "      <td>886</td>\n",
       "      <td>17000</td>\n",
       "      <td>[-4.1984697e-03  4.2941985e-03 -1.1961063e-03 ...</td>\n",
       "      <td>0.001576</td>\n",
       "      <td>4</td>\n",
       "    </tr>\n",
       "    <tr>\n",
       "      <th>1</th>\n",
       "      <td>2</td>\n",
       "      <td>George A. Romero</td>\n",
       "      <td>252</td>\n",
       "      <td>97</td>\n",
       "      <td>0</td>\n",
       "      <td>233</td>\n",
       "      <td>Shawn Roberts</td>\n",
       "      <td>654</td>\n",
       "      <td>20433940</td>\n",
       "      <td>Horror</td>\n",
       "      <td>...</td>\n",
       "      <td>662</td>\n",
       "      <td>English</td>\n",
       "      <td>Canada</td>\n",
       "      <td>R</td>\n",
       "      <td>2005</td>\n",
       "      <td>529</td>\n",
       "      <td>0</td>\n",
       "      <td>[-4.7586653e-03  2.6511205e-03 -3.7954253e-04 ...</td>\n",
       "      <td>0.000675</td>\n",
       "      <td>2</td>\n",
       "    </tr>\n",
       "    <tr>\n",
       "      <th>2</th>\n",
       "      <td>3</td>\n",
       "      <td>David Gordon Green</td>\n",
       "      <td>232</td>\n",
       "      <td>117</td>\n",
       "      <td>234</td>\n",
       "      <td>221</td>\n",
       "      <td>Tye Sheridan</td>\n",
       "      <td>12000</td>\n",
       "      <td>371897</td>\n",
       "      <td>Drama</td>\n",
       "      <td>...</td>\n",
       "      <td>118</td>\n",
       "      <td>English</td>\n",
       "      <td>USA</td>\n",
       "      <td>R</td>\n",
       "      <td>2013</td>\n",
       "      <td>1000</td>\n",
       "      <td>11000</td>\n",
       "      <td>[ 2.78131524e-03 -3.15494463e-03 -6.38332494e-...</td>\n",
       "      <td>0.003002</td>\n",
       "      <td>2</td>\n",
       "    </tr>\n",
       "    <tr>\n",
       "      <th>3</th>\n",
       "      <td>4</td>\n",
       "      <td>John Carpenter</td>\n",
       "      <td>297</td>\n",
       "      <td>109</td>\n",
       "      <td>0</td>\n",
       "      <td>145</td>\n",
       "      <td>Richard Masur</td>\n",
       "      <td>957</td>\n",
       "      <td>13782838</td>\n",
       "      <td>Horror|Mystery|Sci-Fi</td>\n",
       "      <td>...</td>\n",
       "      <td>911</td>\n",
       "      <td>English</td>\n",
       "      <td>USA</td>\n",
       "      <td>R</td>\n",
       "      <td>1982</td>\n",
       "      <td>163</td>\n",
       "      <td>23000</td>\n",
       "      <td>[-5.32674184e-03  3.60742491e-03  7.91795843e-...</td>\n",
       "      <td>0.001726</td>\n",
       "      <td>4</td>\n",
       "    </tr>\n",
       "    <tr>\n",
       "      <th>4</th>\n",
       "      <td>5</td>\n",
       "      <td>Peter Jackson</td>\n",
       "      <td>297</td>\n",
       "      <td>171</td>\n",
       "      <td>0</td>\n",
       "      <td>857</td>\n",
       "      <td>Orlando Bloom</td>\n",
       "      <td>16000</td>\n",
       "      <td>313837577</td>\n",
       "      <td>Action|Adventure|Drama|Fantasy</td>\n",
       "      <td>...</td>\n",
       "      <td>5060</td>\n",
       "      <td>English</td>\n",
       "      <td>New Zealand</td>\n",
       "      <td>PG-13</td>\n",
       "      <td>2001</td>\n",
       "      <td>5000</td>\n",
       "      <td>21000</td>\n",
       "      <td>[-4.2586620e-03  3.6257182e-03 -1.5326265e-03 ...</td>\n",
       "      <td>0.001876</td>\n",
       "      <td>4</td>\n",
       "    </tr>\n",
       "  </tbody>\n",
       "</table>\n",
       "<p>5 rows × 27 columns</p>\n",
       "</div>"
      ],
      "text/plain": [
       "   id       director_name  num_critic_for_reviews  duration  \\\n",
       "0   1        Roger Allers                     186        73   \n",
       "1   2    George A. Romero                     252        97   \n",
       "2   3  David Gordon Green                     232       117   \n",
       "3   4      John Carpenter                     297       109   \n",
       "4   5       Peter Jackson                     297       171   \n",
       "\n",
       "   director_facebook_likes  actor_3_facebook_likes   actor_2_name  \\\n",
       "0                       28                     847    Nathan Lane   \n",
       "1                        0                     233  Shawn Roberts   \n",
       "2                      234                     221   Tye Sheridan   \n",
       "3                        0                     145  Richard Masur   \n",
       "4                        0                     857  Orlando Bloom   \n",
       "\n",
       "   actor_1_facebook_likes      gross  \\\n",
       "0                    2000  422783777   \n",
       "1                     654   20433940   \n",
       "2                   12000     371897   \n",
       "3                     957   13782838   \n",
       "4                   16000  313837577   \n",
       "\n",
       "                                     genres  ... num_user_for_reviews  \\\n",
       "0  Adventure|Animation|Drama|Family|Musical  ...                  656   \n",
       "1                                    Horror  ...                  662   \n",
       "2                                     Drama  ...                  118   \n",
       "3                     Horror|Mystery|Sci-Fi  ...                  911   \n",
       "4            Action|Adventure|Drama|Fantasy  ...                 5060   \n",
       "\n",
       "  language      country  content_rating title_year  actor_2_facebook_likes  \\\n",
       "0  English          USA               G       1994                     886   \n",
       "1  English       Canada               R       2005                     529   \n",
       "2  English          USA               R       2013                    1000   \n",
       "3  English          USA               R       1982                     163   \n",
       "4  English  New Zealand           PG-13       2001                    5000   \n",
       "\n",
       "  movie_facebook_likes                                    title_embedding  \\\n",
       "0                17000  [-4.1984697e-03  4.2941985e-03 -1.1961063e-03 ...   \n",
       "1                    0  [-4.7586653e-03  2.6511205e-03 -3.7954253e-04 ...   \n",
       "2                11000  [ 2.78131524e-03 -3.15494463e-03 -6.38332494e-...   \n",
       "3                23000  [-5.32674184e-03  3.60742491e-03  7.91795843e-...   \n",
       "4                21000  [-4.2586620e-03  3.6257182e-03 -1.5326265e-03 ...   \n",
       "\n",
       "  average_degree_centrality imdb_score_binned  \n",
       "0                  0.001576                 4  \n",
       "1                  0.000675                 2  \n",
       "2                  0.003002                 2  \n",
       "3                  0.001726                 4  \n",
       "4                  0.001876                 4  \n",
       "\n",
       "[5 rows x 27 columns]"
      ]
     },
     "execution_count": 6,
     "metadata": {},
     "output_type": "execute_result"
    }
   ],
   "source": [
    "data.head()"
   ]
  },
  {
   "cell_type": "markdown",
   "metadata": {},
   "source": [
    "# Inspect Raw Data"
   ]
  },
  {
   "cell_type": "code",
   "execution_count": 7,
   "metadata": {},
   "outputs": [
    {
     "data": {
      "text/html": [
       "<div>\n",
       "<style scoped>\n",
       "    .dataframe tbody tr th:only-of-type {\n",
       "        vertical-align: middle;\n",
       "    }\n",
       "\n",
       "    .dataframe tbody tr th {\n",
       "        vertical-align: top;\n",
       "    }\n",
       "\n",
       "    .dataframe thead th {\n",
       "        text-align: right;\n",
       "    }\n",
       "</style>\n",
       "<table border=\"1\" class=\"dataframe\">\n",
       "  <thead>\n",
       "    <tr style=\"text-align: right;\">\n",
       "      <th></th>\n",
       "      <th>director_name</th>\n",
       "      <th>content_rating</th>\n",
       "      <th>country</th>\n",
       "      <th>num_voted_users</th>\n",
       "      <th>title_year</th>\n",
       "    </tr>\n",
       "  </thead>\n",
       "  <tbody>\n",
       "    <tr>\n",
       "      <th>2362</th>\n",
       "      <td>José Padilha</td>\n",
       "      <td>R</td>\n",
       "      <td>Brazil</td>\n",
       "      <td>81644</td>\n",
       "      <td>2007</td>\n",
       "    </tr>\n",
       "    <tr>\n",
       "      <th>77</th>\n",
       "      <td>Frank Darabont</td>\n",
       "      <td>R</td>\n",
       "      <td>USA</td>\n",
       "      <td>782610</td>\n",
       "      <td>1999</td>\n",
       "    </tr>\n",
       "    <tr>\n",
       "      <th>1161</th>\n",
       "      <td>Martin Scorsese</td>\n",
       "      <td>R</td>\n",
       "      <td>USA</td>\n",
       "      <td>333542</td>\n",
       "      <td>1995</td>\n",
       "    </tr>\n",
       "    <tr>\n",
       "      <th>2960</th>\n",
       "      <td>Stanley Kubrick</td>\n",
       "      <td>G</td>\n",
       "      <td>UK</td>\n",
       "      <td>427357</td>\n",
       "      <td>1968</td>\n",
       "    </tr>\n",
       "    <tr>\n",
       "      <th>958</th>\n",
       "      <td>Joel Coen</td>\n",
       "      <td>R</td>\n",
       "      <td>USA</td>\n",
       "      <td>537419</td>\n",
       "      <td>1998</td>\n",
       "    </tr>\n",
       "    <tr>\n",
       "      <th>886</th>\n",
       "      <td>James Cameron</td>\n",
       "      <td>R</td>\n",
       "      <td>UK</td>\n",
       "      <td>600266</td>\n",
       "      <td>1984</td>\n",
       "    </tr>\n",
       "    <tr>\n",
       "      <th>2137</th>\n",
       "      <td>Michel Gondry</td>\n",
       "      <td>R</td>\n",
       "      <td>USA</td>\n",
       "      <td>666937</td>\n",
       "      <td>2004</td>\n",
       "    </tr>\n",
       "    <tr>\n",
       "      <th>235</th>\n",
       "      <td>Brian De Palma</td>\n",
       "      <td>R</td>\n",
       "      <td>USA</td>\n",
       "      <td>537442</td>\n",
       "      <td>1983</td>\n",
       "    </tr>\n",
       "    <tr>\n",
       "      <th>613</th>\n",
       "      <td>Francis Ford Coppola</td>\n",
       "      <td>R</td>\n",
       "      <td>USA</td>\n",
       "      <td>790926</td>\n",
       "      <td>1974</td>\n",
       "    </tr>\n",
       "    <tr>\n",
       "      <th>111</th>\n",
       "      <td>Paul Greengrass</td>\n",
       "      <td>PG-13</td>\n",
       "      <td>USA</td>\n",
       "      <td>491077</td>\n",
       "      <td>2007</td>\n",
       "    </tr>\n",
       "  </tbody>\n",
       "</table>\n",
       "</div>"
      ],
      "text/plain": [
       "             director_name content_rating country  num_voted_users  title_year\n",
       "2362          José Padilha              R  Brazil            81644        2007\n",
       "77          Frank Darabont              R     USA           782610        1999\n",
       "1161       Martin Scorsese              R     USA           333542        1995\n",
       "2960       Stanley Kubrick              G      UK           427357        1968\n",
       "958              Joel Coen              R     USA           537419        1998\n",
       "886          James Cameron              R      UK           600266        1984\n",
       "2137         Michel Gondry              R     USA           666937        2004\n",
       "235         Brian De Palma              R     USA           537442        1983\n",
       "613   Francis Ford Coppola              R     USA           790926        1974\n",
       "111        Paul Greengrass          PG-13     USA           491077        2007"
      ]
     },
     "execution_count": 7,
     "metadata": {},
     "output_type": "execute_result"
    }
   ],
   "source": [
    "# Find high rating movies under particular features\n",
    "data.loc[\n",
    "    data['imdb_score_binned'] == 4, \n",
    "    ['director_name', 'content_rating', 'country', 'num_voted_users', 'title_year']\n",
    "].sample(10)"
   ]
  },
  {
   "cell_type": "markdown",
   "metadata": {},
   "source": [
    "# Label Distribution"
   ]
  },
  {
   "cell_type": "code",
   "execution_count": 8,
   "metadata": {},
   "outputs": [
    {
     "name": "stdout",
     "output_type": "stream",
     "text": [
      "0      24\n",
      "1     235\n",
      "2    1839\n",
      "3     777\n",
      "4     129\n",
      "Name: imdb_score_binned, dtype: int64\n"
     ]
    }
   ],
   "source": [
    "print(data['imdb_score_binned'].value_counts().sort_index())"
   ]
  },
  {
   "cell_type": "code",
   "execution_count": 9,
   "metadata": {},
   "outputs": [
    {
     "data": {
      "image/png": "[encoded data removed]",
      "text/plain": [
       "<Figure size 640x480 with 1 Axes>"
      ]
     },
     "metadata": {},
     "output_type": "display_data"
    }
   ],
   "source": [
    "# Get value_counts without normalization\n",
    "value_counts = data['imdb_score_binned'].value_counts()\n",
    "value_counts = value_counts.sort_index()[::-1]\n",
    "\n",
    "# Get percentage_counts with normalization\n",
    "percentage_counts = data['imdb_score_binned'].value_counts(normalize=True)\n",
    "percentage_counts = percentage_counts.sort_index()[::-1]\n",
    "\n",
    "plt.figure() \n",
    "\n",
    "# Make bars closer together by increasing height\n",
    "bars = plt.barh(range(len(value_counts)), value_counts.values, height=0.8, align='center', alpha=0.7, color='skyblue')\n",
    "\n",
    "# Add percentage labels on the top\n",
    "for i, bar in enumerate(bars):\n",
    "    plt.text(bar.get_width() + 5, bar.get_y() + bar.get_height() / 2, f'{percentage_counts.values[i] * 100:.1f}%', va='center')\n",
    "\n",
    "plt.yticks(range(len(value_counts)), value_counts.index)\n",
    "plt.ylabel('IMDb Score')\n",
    "plt.xlabel('Count')\n",
    "\n",
    "# Prevent the count label being outside the margin\n",
    "plt.xlim(0, max(value_counts.values + 200))  # Add 100 for some padding\n",
    "plt.show()\n"
   ]
  },
  {
   "cell_type": "markdown",
   "metadata": {},
   "source": [
    "The distribution of the label is inbalanced. Rating 2 accounts the majority in the training set, while label 0 and 4 are the minority. Hence, the learning process on rating 0 is not sufficient, resulting in the classification models not leraning the essential characteristics of movies with a 0 rating."
   ]
  },
  {
   "cell_type": "markdown",
   "metadata": {},
   "source": [
    "# Feature Distribution"
   ]
  },
  {
   "cell_type": "markdown",
   "metadata": {},
   "source": [
    "- ### *Numeric features*"
   ]
  },
  {
   "cell_type": "code",
   "execution_count": 10,
   "metadata": {},
   "outputs": [
    {
     "data": {
      "text/html": [
       "<div>\n",
       "<style scoped>\n",
       "    .dataframe tbody tr th:only-of-type {\n",
       "        vertical-align: middle;\n",
       "    }\n",
       "\n",
       "    .dataframe tbody tr th {\n",
       "        vertical-align: top;\n",
       "    }\n",
       "\n",
       "    .dataframe thead th {\n",
       "        text-align: right;\n",
       "    }\n",
       "</style>\n",
       "<table border=\"1\" class=\"dataframe\">\n",
       "  <thead>\n",
       "    <tr style=\"text-align: right;\">\n",
       "      <th></th>\n",
       "      <th>num_voted_users</th>\n",
       "      <th>movie_facebook_likes</th>\n",
       "      <th>num_user_for_reviews</th>\n",
       "      <th>duration</th>\n",
       "      <th>director_facebook_likes</th>\n",
       "      <th>num_critic_for_reviews</th>\n",
       "    </tr>\n",
       "  </thead>\n",
       "  <tbody>\n",
       "    <tr>\n",
       "      <th>count</th>\n",
       "      <td>3004.00</td>\n",
       "      <td>3004.00</td>\n",
       "      <td>3004.00</td>\n",
       "      <td>3004.00</td>\n",
       "      <td>3004.00</td>\n",
       "      <td>3004.00</td>\n",
       "    </tr>\n",
       "    <tr>\n",
       "      <th>mean</th>\n",
       "      <td>104901.74</td>\n",
       "      <td>8972.18</td>\n",
       "      <td>335.92</td>\n",
       "      <td>110.08</td>\n",
       "      <td>778.89</td>\n",
       "      <td>165.61</td>\n",
       "    </tr>\n",
       "    <tr>\n",
       "      <th>std</th>\n",
       "      <td>150857.28</td>\n",
       "      <td>19853.89</td>\n",
       "      <td>415.22</td>\n",
       "      <td>21.91</td>\n",
       "      <td>2990.74</td>\n",
       "      <td>121.25</td>\n",
       "    </tr>\n",
       "    <tr>\n",
       "      <th>min</th>\n",
       "      <td>91.00</td>\n",
       "      <td>0.00</td>\n",
       "      <td>4.00</td>\n",
       "      <td>37.00</td>\n",
       "      <td>0.00</td>\n",
       "      <td>2.00</td>\n",
       "    </tr>\n",
       "    <tr>\n",
       "      <th>25%</th>\n",
       "      <td>18978.25</td>\n",
       "      <td>0.00</td>\n",
       "      <td>108.00</td>\n",
       "      <td>96.00</td>\n",
       "      <td>10.00</td>\n",
       "      <td>76.00</td>\n",
       "    </tr>\n",
       "    <tr>\n",
       "      <th>50%</th>\n",
       "      <td>53874.00</td>\n",
       "      <td>241.00</td>\n",
       "      <td>208.00</td>\n",
       "      <td>106.00</td>\n",
       "      <td>62.50</td>\n",
       "      <td>137.00</td>\n",
       "    </tr>\n",
       "    <tr>\n",
       "      <th>75%</th>\n",
       "      <td>128489.50</td>\n",
       "      <td>11000.00</td>\n",
       "      <td>398.00</td>\n",
       "      <td>120.00</td>\n",
       "      <td>234.00</td>\n",
       "      <td>223.00</td>\n",
       "    </tr>\n",
       "    <tr>\n",
       "      <th>max</th>\n",
       "      <td>1689764.00</td>\n",
       "      <td>197000.00</td>\n",
       "      <td>5060.00</td>\n",
       "      <td>330.00</td>\n",
       "      <td>23000.00</td>\n",
       "      <td>813.00</td>\n",
       "    </tr>\n",
       "  </tbody>\n",
       "</table>\n",
       "</div>"
      ],
      "text/plain": [
       "       num_voted_users  movie_facebook_likes  num_user_for_reviews  duration  \\\n",
       "count          3004.00               3004.00               3004.00   3004.00   \n",
       "mean         104901.74               8972.18                335.92    110.08   \n",
       "std          150857.28              19853.89                415.22     21.91   \n",
       "min              91.00                  0.00                  4.00     37.00   \n",
       "25%           18978.25                  0.00                108.00     96.00   \n",
       "50%           53874.00                241.00                208.00    106.00   \n",
       "75%          128489.50              11000.00                398.00    120.00   \n",
       "max         1689764.00             197000.00               5060.00    330.00   \n",
       "\n",
       "       director_facebook_likes  num_critic_for_reviews  \n",
       "count                  3004.00                 3004.00  \n",
       "mean                    778.89                  165.61  \n",
       "std                    2990.74                  121.25  \n",
       "min                       0.00                    2.00  \n",
       "25%                      10.00                   76.00  \n",
       "50%                      62.50                  137.00  \n",
       "75%                     234.00                  223.00  \n",
       "max                   23000.00                  813.00  "
      ]
     },
     "execution_count": 10,
     "metadata": {},
     "output_type": "execute_result"
    }
   ],
   "source": [
    "data[['num_voted_users', 'movie_facebook_likes', 'num_user_for_reviews', 'duration', 'director_facebook_likes', \n",
    "      'num_critic_for_reviews', ]].describe().round(2)"
   ]
  },
  {
   "cell_type": "markdown",
   "metadata": {},
   "source": [
    "- ### *Categorical features*"
   ]
  },
  {
   "cell_type": "markdown",
   "metadata": {},
   "source": [
    "### **country**"
   ]
  },
  {
   "cell_type": "code",
   "execution_count": 11,
   "metadata": {},
   "outputs": [
    {
     "name": "stdout",
     "output_type": "stream",
     "text": [
      "           Country  Count\n",
      "0              USA   2382\n",
      "1               UK    255\n",
      "2           France     86\n",
      "3          Germany     61\n",
      "4           Canada     46\n",
      "5        Australia     32\n",
      "6            Spain     21\n",
      "7            Japan     12\n",
      "8      New Zealand     10\n",
      "9            China      9\n",
      "10       Hong Kong      9\n",
      "11           Italy      8\n",
      "12     South Korea      7\n",
      "13         Ireland      6\n",
      "14          Mexico      6\n",
      "15         Denmark      6\n",
      "16          Brazil      4\n",
      "17        Thailand      3\n",
      "18    South Africa      3\n",
      "19       Argentina      3\n",
      "20            Iran      3\n",
      "21     Netherlands      3\n",
      "22           India      3\n",
      "23          Norway      3\n",
      "24          Taiwan      2\n",
      "25  Czech Republic      2\n",
      "26          Russia      2\n",
      "27         Romania      2\n",
      "28         Hungary      2\n",
      "29        Colombia      1\n",
      "30          Israel      1\n",
      "31    West Germany      1\n",
      "32   Official site      1\n",
      "33     Afghanistan      1\n",
      "34           Aruba      1\n",
      "35           Chile      1\n",
      "36         Finland      1\n",
      "37         Iceland      1\n",
      "38          Poland      1\n",
      "39         Belgium      1\n",
      "40        New Line      1\n",
      "41       Indonesia      1\n",
      "3004\n"
     ]
    }
   ],
   "source": [
    "country_counts = data['country'].value_counts()\n",
    "\n",
    "# Create a DataFrame from the counts\n",
    "country_counts_df = pd.DataFrame(country_counts.reset_index())\n",
    "country_counts_df.columns = ['Country', 'Count']\n",
    "\n",
    "print(country_counts_df)\n",
    "print(sum(country_counts_df['Count']))"
   ]
  },
  {
   "cell_type": "code",
   "execution_count": 12,
   "metadata": {},
   "outputs": [],
   "source": [
    "country_df = data[['country', 'imdb_score_binned']]"
   ]
  },
  {
   "cell_type": "code",
   "execution_count": 13,
   "metadata": {},
   "outputs": [
    {
     "data": {
      "text/html": [
       "<div>\n",
       "<style scoped>\n",
       "    .dataframe tbody tr th:only-of-type {\n",
       "        vertical-align: middle;\n",
       "    }\n",
       "\n",
       "    .dataframe tbody tr th {\n",
       "        vertical-align: top;\n",
       "    }\n",
       "\n",
       "    .dataframe thead th {\n",
       "        text-align: right;\n",
       "    }\n",
       "</style>\n",
       "<table border=\"1\" class=\"dataframe\">\n",
       "  <thead>\n",
       "    <tr style=\"text-align: right;\">\n",
       "      <th></th>\n",
       "      <th>mean</th>\n",
       "      <th>count</th>\n",
       "    </tr>\n",
       "    <tr>\n",
       "      <th>country</th>\n",
       "      <th></th>\n",
       "      <th></th>\n",
       "    </tr>\n",
       "  </thead>\n",
       "  <tbody>\n",
       "    <tr>\n",
       "      <th>West Germany</th>\n",
       "      <td>4.00</td>\n",
       "      <td>1</td>\n",
       "    </tr>\n",
       "    <tr>\n",
       "      <th>Brazil</th>\n",
       "      <td>3.25</td>\n",
       "      <td>4</td>\n",
       "    </tr>\n",
       "    <tr>\n",
       "      <th>Denmark</th>\n",
       "      <td>3.17</td>\n",
       "      <td>6</td>\n",
       "    </tr>\n",
       "    <tr>\n",
       "      <th>New Zealand</th>\n",
       "      <td>3.10</td>\n",
       "      <td>10</td>\n",
       "    </tr>\n",
       "    <tr>\n",
       "      <th>Netherlands</th>\n",
       "      <td>3.00</td>\n",
       "      <td>3</td>\n",
       "    </tr>\n",
       "    <tr>\n",
       "      <th>Israel</th>\n",
       "      <td>3.00</td>\n",
       "      <td>1</td>\n",
       "    </tr>\n",
       "    <tr>\n",
       "      <th>Argentina</th>\n",
       "      <td>3.00</td>\n",
       "      <td>3</td>\n",
       "    </tr>\n",
       "    <tr>\n",
       "      <th>Iran</th>\n",
       "      <td>3.00</td>\n",
       "      <td>3</td>\n",
       "    </tr>\n",
       "    <tr>\n",
       "      <th>Indonesia</th>\n",
       "      <td>3.00</td>\n",
       "      <td>1</td>\n",
       "    </tr>\n",
       "    <tr>\n",
       "      <th>Finland</th>\n",
       "      <td>3.00</td>\n",
       "      <td>1</td>\n",
       "    </tr>\n",
       "    <tr>\n",
       "      <th>Afghanistan</th>\n",
       "      <td>3.00</td>\n",
       "      <td>1</td>\n",
       "    </tr>\n",
       "    <tr>\n",
       "      <th>Belgium</th>\n",
       "      <td>3.00</td>\n",
       "      <td>1</td>\n",
       "    </tr>\n",
       "    <tr>\n",
       "      <th>Colombia</th>\n",
       "      <td>3.00</td>\n",
       "      <td>1</td>\n",
       "    </tr>\n",
       "    <tr>\n",
       "      <th>Japan</th>\n",
       "      <td>2.83</td>\n",
       "      <td>12</td>\n",
       "    </tr>\n",
       "    <tr>\n",
       "      <th>Spain</th>\n",
       "      <td>2.67</td>\n",
       "      <td>21</td>\n",
       "    </tr>\n",
       "    <tr>\n",
       "      <th>South Africa</th>\n",
       "      <td>2.67</td>\n",
       "      <td>3</td>\n",
       "    </tr>\n",
       "    <tr>\n",
       "      <th>India</th>\n",
       "      <td>2.67</td>\n",
       "      <td>3</td>\n",
       "    </tr>\n",
       "    <tr>\n",
       "      <th>China</th>\n",
       "      <td>2.67</td>\n",
       "      <td>9</td>\n",
       "    </tr>\n",
       "    <tr>\n",
       "      <th>Mexico</th>\n",
       "      <td>2.67</td>\n",
       "      <td>6</td>\n",
       "    </tr>\n",
       "    <tr>\n",
       "      <th>Czech Republic</th>\n",
       "      <td>2.50</td>\n",
       "      <td>2</td>\n",
       "    </tr>\n",
       "    <tr>\n",
       "      <th>Taiwan</th>\n",
       "      <td>2.50</td>\n",
       "      <td>2</td>\n",
       "    </tr>\n",
       "    <tr>\n",
       "      <th>Russia</th>\n",
       "      <td>2.50</td>\n",
       "      <td>2</td>\n",
       "    </tr>\n",
       "    <tr>\n",
       "      <th>Ireland</th>\n",
       "      <td>2.50</td>\n",
       "      <td>6</td>\n",
       "    </tr>\n",
       "    <tr>\n",
       "      <th>Hungary</th>\n",
       "      <td>2.50</td>\n",
       "      <td>2</td>\n",
       "    </tr>\n",
       "    <tr>\n",
       "      <th>UK</th>\n",
       "      <td>2.45</td>\n",
       "      <td>255</td>\n",
       "    </tr>\n",
       "    <tr>\n",
       "      <th>Hong Kong</th>\n",
       "      <td>2.44</td>\n",
       "      <td>9</td>\n",
       "    </tr>\n",
       "    <tr>\n",
       "      <th>France</th>\n",
       "      <td>2.41</td>\n",
       "      <td>86</td>\n",
       "    </tr>\n",
       "    <tr>\n",
       "      <th>Thailand</th>\n",
       "      <td>2.33</td>\n",
       "      <td>3</td>\n",
       "    </tr>\n",
       "    <tr>\n",
       "      <th>Norway</th>\n",
       "      <td>2.33</td>\n",
       "      <td>3</td>\n",
       "    </tr>\n",
       "    <tr>\n",
       "      <th>Australia</th>\n",
       "      <td>2.31</td>\n",
       "      <td>32</td>\n",
       "    </tr>\n",
       "    <tr>\n",
       "      <th>South Korea</th>\n",
       "      <td>2.29</td>\n",
       "      <td>7</td>\n",
       "    </tr>\n",
       "    <tr>\n",
       "      <th>Italy</th>\n",
       "      <td>2.25</td>\n",
       "      <td>8</td>\n",
       "    </tr>\n",
       "    <tr>\n",
       "      <th>USA</th>\n",
       "      <td>2.20</td>\n",
       "      <td>2382</td>\n",
       "    </tr>\n",
       "    <tr>\n",
       "      <th>Germany</th>\n",
       "      <td>2.18</td>\n",
       "      <td>61</td>\n",
       "    </tr>\n",
       "    <tr>\n",
       "      <th>Canada</th>\n",
       "      <td>2.07</td>\n",
       "      <td>46</td>\n",
       "    </tr>\n",
       "    <tr>\n",
       "      <th>Poland</th>\n",
       "      <td>2.00</td>\n",
       "      <td>1</td>\n",
       "    </tr>\n",
       "    <tr>\n",
       "      <th>Official site</th>\n",
       "      <td>2.00</td>\n",
       "      <td>1</td>\n",
       "    </tr>\n",
       "    <tr>\n",
       "      <th>Iceland</th>\n",
       "      <td>2.00</td>\n",
       "      <td>1</td>\n",
       "    </tr>\n",
       "    <tr>\n",
       "      <th>Chile</th>\n",
       "      <td>2.00</td>\n",
       "      <td>1</td>\n",
       "    </tr>\n",
       "    <tr>\n",
       "      <th>Romania</th>\n",
       "      <td>2.00</td>\n",
       "      <td>2</td>\n",
       "    </tr>\n",
       "    <tr>\n",
       "      <th>Aruba</th>\n",
       "      <td>1.00</td>\n",
       "      <td>1</td>\n",
       "    </tr>\n",
       "    <tr>\n",
       "      <th>New Line</th>\n",
       "      <td>1.00</td>\n",
       "      <td>1</td>\n",
       "    </tr>\n",
       "  </tbody>\n",
       "</table>\n",
       "</div>"
      ],
      "text/plain": [
       "                mean  count\n",
       "country                    \n",
       "West Germany    4.00      1\n",
       "Brazil          3.25      4\n",
       "Denmark         3.17      6\n",
       "New Zealand     3.10     10\n",
       "Netherlands     3.00      3\n",
       "Israel          3.00      1\n",
       "Argentina       3.00      3\n",
       "Iran            3.00      3\n",
       "Indonesia       3.00      1\n",
       "Finland         3.00      1\n",
       "Afghanistan     3.00      1\n",
       "Belgium         3.00      1\n",
       "Colombia        3.00      1\n",
       "Japan           2.83     12\n",
       "Spain           2.67     21\n",
       "South Africa    2.67      3\n",
       "India           2.67      3\n",
       "China           2.67      9\n",
       "Mexico          2.67      6\n",
       "Czech Republic  2.50      2\n",
       "Taiwan          2.50      2\n",
       "Russia          2.50      2\n",
       "Ireland         2.50      6\n",
       "Hungary         2.50      2\n",
       "UK              2.45    255\n",
       "Hong Kong       2.44      9\n",
       "France          2.41     86\n",
       "Thailand        2.33      3\n",
       "Norway          2.33      3\n",
       "Australia       2.31     32\n",
       "South Korea     2.29      7\n",
       "Italy           2.25      8\n",
       "USA             2.20   2382\n",
       "Germany         2.18     61\n",
       "Canada          2.07     46\n",
       "Poland          2.00      1\n",
       "Official site   2.00      1\n",
       "Iceland         2.00      1\n",
       "Chile           2.00      1\n",
       "Romania         2.00      2\n",
       "Aruba           1.00      1\n",
       "New Line        1.00      1"
      ]
     },
     "execution_count": 13,
     "metadata": {},
     "output_type": "execute_result"
    }
   ],
   "source": [
    "country_score = country_df.groupby('country')['imdb_score_binned'].agg(\n",
    "    ['mean', 'count']\n",
    ").sort_values(by='mean', ascending=False).round(2)\n",
    "country_score"
   ]
  },
  {
   "cell_type": "code",
   "execution_count": 14,
   "metadata": {},
   "outputs": [
    {
     "data": {
      "text/plain": [
       "<Axes: >"
      ]
     },
     "execution_count": 14,
     "metadata": {},
     "output_type": "execute_result"
    },
    {
     "data": {
      "image/png": "[encoded data removed]",
      "text/plain": [
       "<Figure size 640x480 with 2 Axes>"
      ]
     },
     "metadata": {},
     "output_type": "display_data"
    }
   ],
   "source": [
    "# Plotting\n",
    "ax = country_score['count'].plot(\n",
    "    kind='bar', label='Count', legend=True, edgecolor='black', use_index=False\n",
    ")\n",
    "\n",
    "country_score['mean'].plot(\n",
    "    kind='line', label='Rating Mean', rot=90, legend=True, secondary_y = True,\n",
    "    color='red', ax=ax, linestyle='--', marker='o'\n",
    ")"
   ]
  },
  {
   "cell_type": "markdown",
   "metadata": {},
   "source": [
    "### **content_rating**"
   ]
  },
  {
   "cell_type": "code",
   "execution_count": 15,
   "metadata": {},
   "outputs": [
    {
     "data": {
      "image/png": "[encoded data removed]",
      "text/plain": [
       "<Figure size 640x480 with 1 Axes>"
      ]
     },
     "metadata": {},
     "output_type": "display_data"
    }
   ],
   "source": [
    "content_rating_counts = data['content_rating'].value_counts()\n",
    "\n",
    "total_movies = len(data)\n",
    "content_rating_percentages = content_rating_counts / total_movies * 100\n",
    "\n",
    "\n",
    "plt.figure()\n",
    "content_rating_percentages.plot(kind='bar', color='skyblue')\n",
    "plt.xlabel('Content Rating')\n",
    "plt.ylabel('Percentage')\n",
    "plt.title('Percentage of Movies by Content Rating')\n",
    "plt.xticks(rotation=45, ha='right')  # Rotate x-labels for better readability\n",
    "plt.tight_layout()  # Adjust layout to prevent clipping of labels\n",
    "plt.show()"
   ]
  },
  {
   "cell_type": "markdown",
   "metadata": {},
   "source": [
    "### **language**"
   ]
  },
  {
   "cell_type": "code",
   "execution_count": 16,
   "metadata": {},
   "outputs": [
    {
     "data": {
      "image/png": "[encoded data removed]",
      "text/plain": [
       "<Figure size 640x480 with 1 Axes>"
      ]
     },
     "metadata": {},
     "output_type": "display_data"
    }
   ],
   "source": [
    "language_counts = data['language'].value_counts()\n",
    "\n",
    "total_movies = len(data)\n",
    "language_percentages = language_counts / total_movies * 100\n",
    "\n",
    "plt.figure()\n",
    "language_percentages.plot(kind='bar', color='skyblue')\n",
    "plt.xlabel('Language')\n",
    "plt.ylabel('Percentage')\n",
    "plt.title('Percentage of Movies by Language')\n",
    "plt.xticks(rotation=45, ha='right')  # Rotate x-labels for better readability\n",
    "plt.tight_layout()  # Adjust layout to prevent clipping of labels\n",
    "plt.show()"
   ]
  },
  {
   "cell_type": "markdown",
   "metadata": {},
   "source": [
    "# Feature Selection"
   ]
  },
  {
   "cell_type": "markdown",
   "metadata": {},
   "source": [
    "### **Mutual Information**"
   ]
  },
  {
   "cell_type": "code",
   "execution_count": 17,
   "metadata": {},
   "outputs": [],
   "source": [
    "from sklearn.feature_selection import mutual_info_classif\n",
    "from sklearn.model_selection import cross_val_score\n",
    "from sklearn.ensemble import RandomForestClassifier\n",
    "from sklearn.feature_selection import mutual_info_classif\n",
    "from sklearn.preprocessing import LabelEncoder"
   ]
  },
  {
   "cell_type": "markdown",
   "metadata": {},
   "source": [
    "- ### *Numeric features*"
   ]
  },
  {
   "cell_type": "code",
   "execution_count": 18,
   "metadata": {},
   "outputs": [
    {
     "name": "stdout",
     "output_type": "stream",
     "text": [
      "Optimal number of features: 14\n"
     ]
    }
   ],
   "source": [
    "categorical_cols = list(data.select_dtypes(include=['object']).columns)\n",
    "numerical_cols = data.columns.difference(categorical_cols).drop(['id', 'imdb_score_binned'])\n",
    "numerical_df = data[numerical_cols]\n",
    "y = data['imdb_score_binned']\n",
    "\n",
    "# Set random seed for reproducibility\n",
    "np.random.seed(42)\n",
    "\n",
    "# Compute mutual information scores for numerical features\n",
    "mutual_info_numerical = mutual_info_classif(numerical_df, y)\n",
    "feature_scores_numerical = pd.Series(mutual_info_numerical, index=numerical_df.columns)\n",
    "\n",
    "rf = RandomForestClassifier()\n",
    "cv_scores = []\n",
    "\n",
    "# Sort the features based on mutual information scores\n",
    "sorted_indices = np.argsort(-feature_scores_numerical.values)\n",
    "\n",
    "for k in range(1, len(numerical_cols) + 1):\n",
    "    # Select top k numerical features\n",
    "    top_numerical_features = numerical_cols[sorted_indices[:k]].tolist()\n",
    "    X = numerical_df[top_numerical_features]\n",
    "\n",
    "    # Perform cross-validation and append the score to the list\n",
    "    cv_score = cross_val_score(rf, X, y, cv=5, scoring='accuracy').mean()\n",
    "    cv_scores.append(cv_score)\n",
    "\n",
    "# Find the optimal number of features based on the highest cross-validation score\n",
    "optimal_num_features = np.argmax(cv_scores) + 1\n",
    "print(f\"Optimal number of features: {optimal_num_features}\")"
   ]
  },
  {
   "cell_type": "code",
   "execution_count": 19,
   "metadata": {},
   "outputs": [],
   "source": [
    "# Get the top k numeric features and their scores\n",
    "top_num_features = feature_scores_numerical.nlargest(optimal_num_features)\n",
    "top_num_features_names = top_num_features.index\n",
    "top_num_features_scores = top_num_features.values"
   ]
  },
  {
   "cell_type": "code",
   "execution_count": 20,
   "metadata": {},
   "outputs": [
    {
     "data": {
      "image/png": "[encoded data removed]",
      "text/plain": [
       "<Figure size 640x480 with 1 Axes>"
      ]
     },
     "metadata": {},
     "output_type": "display_data"
    }
   ],
   "source": [
    "plt.figure()\n",
    "plt.barh(top_num_features_names, top_num_features_scores, color='skyblue')\n",
    "plt.xlabel('Mutual Information Score')\n",
    "#plt.title(f'Top {optimal_num_features} Numerical Features')\n",
    "plt.gca().invert_yaxis()  # Invert y-axis to have the highest score at the top\n",
    "plt.show()"
   ]
  },
  {
   "cell_type": "markdown",
   "metadata": {},
   "source": [
    "- ### *Categorical features*"
   ]
  },
  {
   "cell_type": "code",
   "execution_count": 21,
   "metadata": {},
   "outputs": [
    {
     "name": "stdout",
     "output_type": "stream",
     "text": [
      "Optimal number of features: 3\n"
     ]
    }
   ],
   "source": [
    "# Set a random seed for reproducibility\n",
    "np.random.seed(42)\n",
    "\n",
    "# Assuming you have a DataFrame 'data' with categorical features and a target variable 'y'\n",
    "categorical_cols = list(data.select_dtypes(include=['object']).columns)\n",
    "categorical_cols.remove('movie_title')  # Remove the movie title column since title_embedding is its encoding\n",
    "\n",
    "# Encode categorical features\n",
    "encoded_data = data[categorical_cols].apply(LabelEncoder().fit_transform)\n",
    "\n",
    "# Compute mutual information scores for categorical features\n",
    "mutual_info_categorical = mutual_info_classif(encoded_data, y)\n",
    "feature_scores_categorical = pd.Series(mutual_info_categorical, index=categorical_cols)\n",
    "\n",
    "# Sort the scores in descending order and remove features with 0 score\n",
    "sorted_scores_categorical = feature_scores_categorical[feature_scores_categorical > 0].sort_values(ascending=False)\n",
    "\n",
    "# Perform cross-validation for different values of k\n",
    "cv_scores = []\n",
    "for k in range(1, len(sorted_scores_categorical) + 1):\n",
    "    # Select top k categorical features\n",
    "    top_categorical_features = sorted_scores_categorical.head(k).index.tolist()\n",
    "    X = encoded_data[top_categorical_features]\n",
    "\n",
    "    rf = RandomForestClassifier()\n",
    "\n",
    "    # Perform cross-validation and compute mean accuracy\n",
    "    cv_score = cross_val_score(rf, X, y, cv=5, scoring='accuracy').mean()\n",
    "    cv_scores.append(cv_score)\n",
    "\n",
    "# Find the optimal k based on the highest cross-validation score\n",
    "optimal_cat_features = np.argmax(cv_scores) + 1\n",
    "print(f\"Optimal number of features: {optimal_cat_features}\")"
   ]
  },
  {
   "cell_type": "code",
   "execution_count": 22,
   "metadata": {},
   "outputs": [],
   "source": [
    "# Get the top k categorical features and their scores\n",
    "top_cat_features = sorted_scores_categorical.nlargest(optimal_cat_features)\n",
    "top_cat_features_names = top_cat_features.index\n",
    "top_cat_features_scores = top_cat_features.values"
   ]
  },
  {
   "cell_type": "code",
   "execution_count": 23,
   "metadata": {},
   "outputs": [
    {
     "data": {
      "text/plain": [
       "array([0.02200971, 0.01908839, 0.01807365])"
      ]
     },
     "execution_count": 23,
     "metadata": {},
     "output_type": "execute_result"
    }
   ],
   "source": [
    "top_cat_features_scores"
   ]
  },
  {
   "cell_type": "code",
   "execution_count": 24,
   "metadata": {},
   "outputs": [
    {
     "data": {
      "image/png": "[encoded data removed]",
      "text/plain": [
       "<Figure size 640x480 with 1 Axes>"
      ]
     },
     "metadata": {},
     "output_type": "display_data"
    }
   ],
   "source": [
    "plt.figure()\n",
    "plt.bar(top_cat_features_names, top_cat_features_scores, color='skyblue')\n",
    "plt.ylabel('Mutual Information Score')\n",
    "#plt.title(f'Top {optimal_cat_features} Categorical Features')\n",
    "plt.show()"
   ]
  },
  {
   "cell_type": "markdown",
   "metadata": {},
   "source": [
    "# Preprocessing\n",
    "- ### *Grouping Low-Frequency Categories (5%) as \"other\"*"
   ]
  },
  {
   "cell_type": "markdown",
   "metadata": {},
   "source": [
    "### **country**"
   ]
  },
  {
   "cell_type": "code",
   "execution_count": 25,
   "metadata": {},
   "outputs": [
    {
     "name": "stdout",
     "output_type": "stream",
     "text": [
      "USA      2382\n",
      "UK        255\n",
      "Other     367\n",
      "Name: country, dtype: int64\n"
     ]
    }
   ],
   "source": [
    "total_country_count = data['country'].value_counts().sum()\n",
    "\n",
    "# Calculate the 5% threshold\n",
    "threshold = 0.05 * total_country_count\n",
    "\n",
    "# Group countries with count less than threshold into 'Other'\n",
    "country_counts = data['country'].value_counts()\n",
    "selected_countries = country_counts[country_counts >= threshold]\n",
    "other_count = country_counts[country_counts < threshold].sum()\n",
    "selected_countries['Other'] = other_count\n",
    "\n",
    "print(selected_countries)"
   ]
  },
  {
   "cell_type": "markdown",
   "metadata": {},
   "source": [
    "### **content_rating**"
   ]
  },
  {
   "cell_type": "code",
   "execution_count": 26,
   "metadata": {},
   "outputs": [
    {
     "name": "stdout",
     "output_type": "stream",
     "text": [
      "R        1362\n",
      "PG-13    1039\n",
      "PG        458\n",
      "Other     145\n",
      "Name: content_rating, dtype: int64\n"
     ]
    }
   ],
   "source": [
    "total_content_rating_count = data['content_rating'].value_counts().sum()\n",
    "\n",
    "# Calculate the 5% threshold\n",
    "threshold = 0.05 * total_content_rating_count\n",
    "\n",
    "# Group content rating with count less than threshold into 'Other'\n",
    "content_rating_counts = data['content_rating'].value_counts()\n",
    "selected_content_ratings = content_rating_counts[content_rating_counts >= threshold]\n",
    "other_count = content_rating_counts[content_rating_counts < threshold].sum()\n",
    "selected_content_ratings['Other'] = other_count\n",
    "\n",
    "print(selected_content_ratings)"
   ]
  },
  {
   "cell_type": "markdown",
   "metadata": {},
   "source": [
    "### **language**"
   ]
  },
  {
   "cell_type": "code",
   "execution_count": 27,
   "metadata": {},
   "outputs": [
    {
     "name": "stdout",
     "output_type": "stream",
     "text": [
      "English    2872\n",
      "Other       132\n",
      "Name: language, dtype: int64\n"
     ]
    }
   ],
   "source": [
    "total_language_count = data['language'].value_counts().sum()\n",
    "\n",
    "# Calculate the 5% threshold\n",
    "threshold = 0.05 * total_language_count\n",
    "\n",
    "# Group languages with count less than threshold into 'Other'\n",
    "language_counts = data['language'].value_counts()\n",
    "selected_languages = language_counts[language_counts >= threshold]\n",
    "other_count = language_counts[language_counts < threshold].sum()\n",
    "selected_languages['Other'] = other_count\n",
    "\n",
    "print(selected_languages)"
   ]
  },
  {
   "cell_type": "markdown",
   "metadata": {},
   "source": [
    "# Dimensionality Reduction on Datasets"
   ]
  },
  {
   "cell_type": "code",
   "execution_count": 28,
   "metadata": {},
   "outputs": [],
   "source": [
    "def dim_reduction(df):\n",
    "    ''' Perform dimensionality reduction on the datasetS by dropping irrelevant columns, and encoding categorical features for both training and testing datasets.\n",
    "    '''\n",
    "    df = df.drop([\n",
    "        'id', 'movie_title', 'genres', 'plot_keywords', 'title_embedding', \n",
    "        'actor_1_name', 'actor_2_name', 'actor_3_name', 'director_name'\n",
    "    ], axis=1)\n",
    "\n",
    "    # country\n",
    "    selected_countries = country_counts[country_counts >= threshold].index\n",
    "    df['country'] = df['country'].apply(lambda x: x if x in selected_countries else 'Other')\n",
    "    df = pd.concat([df, pd.get_dummies(df['country'], prefix='country')], axis=1)\n",
    "    df.drop('country', axis=1, inplace=True)\n",
    "    \n",
    "    # content rating\n",
    "    selected_content_ratings = content_rating_counts[content_rating_counts >= threshold].index\n",
    "    df['content_rating'] = df['content_rating'].apply(lambda x: x if x in selected_content_ratings else 'Other')\n",
    "    df = pd.concat([df, pd.get_dummies(df['content_rating'], prefix='content_rating')], axis=1)\n",
    "    df.drop('content_rating', axis=1, inplace=True)\n",
    "\n",
    "    # language\n",
    "    df['language'] = (df['language'] == 'English').astype(int)  # English=1, non-English=0\n",
    "\n",
    "    # put the label as the last column in the training dataset\n",
    "    if 'imdb_score_binned' in df.columns:\n",
    "        label = df.pop('imdb_score_binned')\n",
    "        df['imdb_score_binned'] = label\n",
    "\n",
    "    return df"
   ]
  },
  {
   "cell_type": "code",
   "execution_count": 29,
   "metadata": {},
   "outputs": [
    {
     "data": {
      "text/html": [
       "<div>\n",
       "<style scoped>\n",
       "    .dataframe tbody tr th:only-of-type {\n",
       "        vertical-align: middle;\n",
       "    }\n",
       "\n",
       "    .dataframe tbody tr th {\n",
       "        vertical-align: top;\n",
       "    }\n",
       "\n",
       "    .dataframe thead th {\n",
       "        text-align: right;\n",
       "    }\n",
       "</style>\n",
       "<table border=\"1\" class=\"dataframe\">\n",
       "  <thead>\n",
       "    <tr style=\"text-align: right;\">\n",
       "      <th></th>\n",
       "      <th>num_critic_for_reviews</th>\n",
       "      <th>duration</th>\n",
       "      <th>director_facebook_likes</th>\n",
       "      <th>actor_3_facebook_likes</th>\n",
       "      <th>actor_1_facebook_likes</th>\n",
       "      <th>gross</th>\n",
       "      <th>num_voted_users</th>\n",
       "      <th>cast_total_facebook_likes</th>\n",
       "      <th>facenumber_in_poster</th>\n",
       "      <th>num_user_for_reviews</th>\n",
       "      <th>...</th>\n",
       "      <th>movie_facebook_likes</th>\n",
       "      <th>average_degree_centrality</th>\n",
       "      <th>country_Other</th>\n",
       "      <th>country_UK</th>\n",
       "      <th>country_USA</th>\n",
       "      <th>content_rating_Other</th>\n",
       "      <th>content_rating_PG</th>\n",
       "      <th>content_rating_PG-13</th>\n",
       "      <th>content_rating_R</th>\n",
       "      <th>imdb_score_binned</th>\n",
       "    </tr>\n",
       "  </thead>\n",
       "  <tbody>\n",
       "    <tr>\n",
       "      <th>0</th>\n",
       "      <td>186</td>\n",
       "      <td>73</td>\n",
       "      <td>28</td>\n",
       "      <td>847</td>\n",
       "      <td>2000</td>\n",
       "      <td>422783777</td>\n",
       "      <td>644348</td>\n",
       "      <td>6458</td>\n",
       "      <td>0</td>\n",
       "      <td>656</td>\n",
       "      <td>...</td>\n",
       "      <td>17000</td>\n",
       "      <td>0.001576</td>\n",
       "      <td>0</td>\n",
       "      <td>0</td>\n",
       "      <td>1</td>\n",
       "      <td>1</td>\n",
       "      <td>0</td>\n",
       "      <td>0</td>\n",
       "      <td>0</td>\n",
       "      <td>4</td>\n",
       "    </tr>\n",
       "    <tr>\n",
       "      <th>1</th>\n",
       "      <td>252</td>\n",
       "      <td>97</td>\n",
       "      <td>0</td>\n",
       "      <td>233</td>\n",
       "      <td>654</td>\n",
       "      <td>20433940</td>\n",
       "      <td>78883</td>\n",
       "      <td>1876</td>\n",
       "      <td>8</td>\n",
       "      <td>662</td>\n",
       "      <td>...</td>\n",
       "      <td>0</td>\n",
       "      <td>0.000675</td>\n",
       "      <td>1</td>\n",
       "      <td>0</td>\n",
       "      <td>0</td>\n",
       "      <td>0</td>\n",
       "      <td>0</td>\n",
       "      <td>0</td>\n",
       "      <td>1</td>\n",
       "      <td>2</td>\n",
       "    </tr>\n",
       "    <tr>\n",
       "      <th>2</th>\n",
       "      <td>232</td>\n",
       "      <td>117</td>\n",
       "      <td>234</td>\n",
       "      <td>221</td>\n",
       "      <td>12000</td>\n",
       "      <td>371897</td>\n",
       "      <td>36494</td>\n",
       "      <td>13607</td>\n",
       "      <td>2</td>\n",
       "      <td>118</td>\n",
       "      <td>...</td>\n",
       "      <td>11000</td>\n",
       "      <td>0.003002</td>\n",
       "      <td>0</td>\n",
       "      <td>0</td>\n",
       "      <td>1</td>\n",
       "      <td>0</td>\n",
       "      <td>0</td>\n",
       "      <td>0</td>\n",
       "      <td>1</td>\n",
       "      <td>2</td>\n",
       "    </tr>\n",
       "    <tr>\n",
       "      <th>3</th>\n",
       "      <td>297</td>\n",
       "      <td>109</td>\n",
       "      <td>0</td>\n",
       "      <td>145</td>\n",
       "      <td>957</td>\n",
       "      <td>13782838</td>\n",
       "      <td>258078</td>\n",
       "      <td>1757</td>\n",
       "      <td>0</td>\n",
       "      <td>911</td>\n",
       "      <td>...</td>\n",
       "      <td>23000</td>\n",
       "      <td>0.001726</td>\n",
       "      <td>0</td>\n",
       "      <td>0</td>\n",
       "      <td>1</td>\n",
       "      <td>0</td>\n",
       "      <td>0</td>\n",
       "      <td>0</td>\n",
       "      <td>1</td>\n",
       "      <td>4</td>\n",
       "    </tr>\n",
       "    <tr>\n",
       "      <th>4</th>\n",
       "      <td>297</td>\n",
       "      <td>171</td>\n",
       "      <td>0</td>\n",
       "      <td>857</td>\n",
       "      <td>16000</td>\n",
       "      <td>313837577</td>\n",
       "      <td>1238746</td>\n",
       "      <td>22342</td>\n",
       "      <td>2</td>\n",
       "      <td>5060</td>\n",
       "      <td>...</td>\n",
       "      <td>21000</td>\n",
       "      <td>0.001876</td>\n",
       "      <td>1</td>\n",
       "      <td>0</td>\n",
       "      <td>0</td>\n",
       "      <td>0</td>\n",
       "      <td>0</td>\n",
       "      <td>1</td>\n",
       "      <td>0</td>\n",
       "      <td>4</td>\n",
       "    </tr>\n",
       "  </tbody>\n",
       "</table>\n",
       "<p>5 rows × 23 columns</p>\n",
       "</div>"
      ],
      "text/plain": [
       "   num_critic_for_reviews  duration  director_facebook_likes  \\\n",
       "0                     186        73                       28   \n",
       "1                     252        97                        0   \n",
       "2                     232       117                      234   \n",
       "3                     297       109                        0   \n",
       "4                     297       171                        0   \n",
       "\n",
       "   actor_3_facebook_likes  actor_1_facebook_likes      gross  num_voted_users  \\\n",
       "0                     847                    2000  422783777           644348   \n",
       "1                     233                     654   20433940            78883   \n",
       "2                     221                   12000     371897            36494   \n",
       "3                     145                     957   13782838           258078   \n",
       "4                     857                   16000  313837577          1238746   \n",
       "\n",
       "   cast_total_facebook_likes  facenumber_in_poster  num_user_for_reviews  ...  \\\n",
       "0                       6458                     0                   656  ...   \n",
       "1                       1876                     8                   662  ...   \n",
       "2                      13607                     2                   118  ...   \n",
       "3                       1757                     0                   911  ...   \n",
       "4                      22342                     2                  5060  ...   \n",
       "\n",
       "   movie_facebook_likes  average_degree_centrality  country_Other  country_UK  \\\n",
       "0                 17000                   0.001576              0           0   \n",
       "1                     0                   0.000675              1           0   \n",
       "2                 11000                   0.003002              0           0   \n",
       "3                 23000                   0.001726              0           0   \n",
       "4                 21000                   0.001876              1           0   \n",
       "\n",
       "   country_USA  content_rating_Other  content_rating_PG  content_rating_PG-13  \\\n",
       "0            1                     1                  0                     0   \n",
       "1            0                     0                  0                     0   \n",
       "2            1                     0                  0                     0   \n",
       "3            1                     0                  0                     0   \n",
       "4            0                     0                  0                     1   \n",
       "\n",
       "   content_rating_R  imdb_score_binned  \n",
       "0                 0                  4  \n",
       "1                 1                  2  \n",
       "2                 1                  2  \n",
       "3                 1                  4  \n",
       "4                 0                  4  \n",
       "\n",
       "[5 rows x 23 columns]"
      ]
     },
     "execution_count": 29,
     "metadata": {},
     "output_type": "execute_result"
    }
   ],
   "source": [
    "clean_train = dim_reduction(data)\n",
    "clean_train.head()"
   ]
  },
  {
   "cell_type": "code",
   "execution_count": 30,
   "metadata": {},
   "outputs": [
    {
     "data": {
      "text/html": [
       "<div>\n",
       "<style scoped>\n",
       "    .dataframe tbody tr th:only-of-type {\n",
       "        vertical-align: middle;\n",
       "    }\n",
       "\n",
       "    .dataframe tbody tr th {\n",
       "        vertical-align: top;\n",
       "    }\n",
       "\n",
       "    .dataframe thead th {\n",
       "        text-align: right;\n",
       "    }\n",
       "</style>\n",
       "<table border=\"1\" class=\"dataframe\">\n",
       "  <thead>\n",
       "    <tr style=\"text-align: right;\">\n",
       "      <th></th>\n",
       "      <th>num_critic_for_reviews</th>\n",
       "      <th>duration</th>\n",
       "      <th>director_facebook_likes</th>\n",
       "      <th>actor_3_facebook_likes</th>\n",
       "      <th>actor_1_facebook_likes</th>\n",
       "      <th>gross</th>\n",
       "      <th>num_voted_users</th>\n",
       "      <th>cast_total_facebook_likes</th>\n",
       "      <th>facenumber_in_poster</th>\n",
       "      <th>num_user_for_reviews</th>\n",
       "      <th>...</th>\n",
       "      <th>actor_2_facebook_likes</th>\n",
       "      <th>movie_facebook_likes</th>\n",
       "      <th>average_degree_centrality</th>\n",
       "      <th>country_Other</th>\n",
       "      <th>country_UK</th>\n",
       "      <th>country_USA</th>\n",
       "      <th>content_rating_Other</th>\n",
       "      <th>content_rating_PG</th>\n",
       "      <th>content_rating_PG-13</th>\n",
       "      <th>content_rating_R</th>\n",
       "    </tr>\n",
       "  </thead>\n",
       "  <tbody>\n",
       "    <tr>\n",
       "      <th>0</th>\n",
       "      <td>27</td>\n",
       "      <td>118</td>\n",
       "      <td>14</td>\n",
       "      <td>400</td>\n",
       "      <td>2000</td>\n",
       "      <td>2246000</td>\n",
       "      <td>2302</td>\n",
       "      <td>3384</td>\n",
       "      <td>4</td>\n",
       "      <td>20</td>\n",
       "      <td>...</td>\n",
       "      <td>769</td>\n",
       "      <td>0</td>\n",
       "      <td>0.000375</td>\n",
       "      <td>0</td>\n",
       "      <td>0</td>\n",
       "      <td>1</td>\n",
       "      <td>0</td>\n",
       "      <td>1</td>\n",
       "      <td>0</td>\n",
       "      <td>0</td>\n",
       "    </tr>\n",
       "    <tr>\n",
       "      <th>1</th>\n",
       "      <td>339</td>\n",
       "      <td>141</td>\n",
       "      <td>0</td>\n",
       "      <td>404</td>\n",
       "      <td>749</td>\n",
       "      <td>47307550</td>\n",
       "      <td>104301</td>\n",
       "      <td>1948</td>\n",
       "      <td>4</td>\n",
       "      <td>269</td>\n",
       "      <td>...</td>\n",
       "      <td>463</td>\n",
       "      <td>28000</td>\n",
       "      <td>0.002176</td>\n",
       "      <td>0</td>\n",
       "      <td>0</td>\n",
       "      <td>1</td>\n",
       "      <td>0</td>\n",
       "      <td>0</td>\n",
       "      <td>0</td>\n",
       "      <td>1</td>\n",
       "    </tr>\n",
       "    <tr>\n",
       "      <th>2</th>\n",
       "      <td>78</td>\n",
       "      <td>95</td>\n",
       "      <td>89</td>\n",
       "      <td>388</td>\n",
       "      <td>963</td>\n",
       "      <td>37606</td>\n",
       "      <td>31836</td>\n",
       "      <td>2658</td>\n",
       "      <td>0</td>\n",
       "      <td>90</td>\n",
       "      <td>...</td>\n",
       "      <td>654</td>\n",
       "      <td>0</td>\n",
       "      <td>0.000900</td>\n",
       "      <td>1</td>\n",
       "      <td>0</td>\n",
       "      <td>0</td>\n",
       "      <td>0</td>\n",
       "      <td>0</td>\n",
       "      <td>0</td>\n",
       "      <td>1</td>\n",
       "    </tr>\n",
       "    <tr>\n",
       "      <th>3</th>\n",
       "      <td>226</td>\n",
       "      <td>117</td>\n",
       "      <td>0</td>\n",
       "      <td>818</td>\n",
       "      <td>15000</td>\n",
       "      <td>104054514</td>\n",
       "      <td>200359</td>\n",
       "      <td>16828</td>\n",
       "      <td>0</td>\n",
       "      <td>1009</td>\n",
       "      <td>...</td>\n",
       "      <td>1000</td>\n",
       "      <td>0</td>\n",
       "      <td>0.003452</td>\n",
       "      <td>0</td>\n",
       "      <td>0</td>\n",
       "      <td>1</td>\n",
       "      <td>0</td>\n",
       "      <td>0</td>\n",
       "      <td>0</td>\n",
       "      <td>1</td>\n",
       "    </tr>\n",
       "    <tr>\n",
       "      <th>4</th>\n",
       "      <td>97</td>\n",
       "      <td>104</td>\n",
       "      <td>38</td>\n",
       "      <td>690</td>\n",
       "      <td>801</td>\n",
       "      <td>3447339</td>\n",
       "      <td>29517</td>\n",
       "      <td>2667</td>\n",
       "      <td>7</td>\n",
       "      <td>79</td>\n",
       "      <td>...</td>\n",
       "      <td>727</td>\n",
       "      <td>0</td>\n",
       "      <td>0.000450</td>\n",
       "      <td>0</td>\n",
       "      <td>0</td>\n",
       "      <td>1</td>\n",
       "      <td>0</td>\n",
       "      <td>0</td>\n",
       "      <td>0</td>\n",
       "      <td>1</td>\n",
       "    </tr>\n",
       "  </tbody>\n",
       "</table>\n",
       "<p>5 rows × 22 columns</p>\n",
       "</div>"
      ],
      "text/plain": [
       "   num_critic_for_reviews  duration  director_facebook_likes  \\\n",
       "0                      27       118                       14   \n",
       "1                     339       141                        0   \n",
       "2                      78        95                       89   \n",
       "3                     226       117                        0   \n",
       "4                      97       104                       38   \n",
       "\n",
       "   actor_3_facebook_likes  actor_1_facebook_likes      gross  num_voted_users  \\\n",
       "0                     400                    2000    2246000             2302   \n",
       "1                     404                     749   47307550           104301   \n",
       "2                     388                     963      37606            31836   \n",
       "3                     818                   15000  104054514           200359   \n",
       "4                     690                     801    3447339            29517   \n",
       "\n",
       "   cast_total_facebook_likes  facenumber_in_poster  num_user_for_reviews  ...  \\\n",
       "0                       3384                     4                    20  ...   \n",
       "1                       1948                     4                   269  ...   \n",
       "2                       2658                     0                    90  ...   \n",
       "3                      16828                     0                  1009  ...   \n",
       "4                       2667                     7                    79  ...   \n",
       "\n",
       "   actor_2_facebook_likes  movie_facebook_likes  average_degree_centrality  \\\n",
       "0                     769                     0                   0.000375   \n",
       "1                     463                 28000                   0.002176   \n",
       "2                     654                     0                   0.000900   \n",
       "3                    1000                     0                   0.003452   \n",
       "4                     727                     0                   0.000450   \n",
       "\n",
       "   country_Other  country_UK  country_USA  content_rating_Other  \\\n",
       "0              0           0            1                     0   \n",
       "1              0           0            1                     0   \n",
       "2              1           0            0                     0   \n",
       "3              0           0            1                     0   \n",
       "4              0           0            1                     0   \n",
       "\n",
       "   content_rating_PG  content_rating_PG-13  content_rating_R  \n",
       "0                  1                     0                 0  \n",
       "1                  0                     0                 1  \n",
       "2                  0                     0                 1  \n",
       "3                  0                     0                 1  \n",
       "4                  0                     0                 1  \n",
       "\n",
       "[5 rows x 22 columns]"
      ]
     },
     "execution_count": 30,
     "metadata": {},
     "output_type": "execute_result"
    }
   ],
   "source": [
    "clean_test = dim_reduction(test)\n",
    "clean_test.head()"
   ]
  },
  {
   "cell_type": "markdown",
   "metadata": {},
   "source": [
    "# Holdout\n",
    "- train_dataset: includes complete training data\n",
    "- test_dataset: includes complete testing data, but without label \n",
    "\n",
    "We need to slit train_dataset into two parts: train_dataset and validation_dataset, so that we can evaluate and optimize the models."
   ]
  },
  {
   "cell_type": "code",
   "execution_count": 31,
   "metadata": {},
   "outputs": [],
   "source": [
    "from sklearn.model_selection import train_test_split"
   ]
  },
  {
   "cell_type": "code",
   "execution_count": 32,
   "metadata": {},
   "outputs": [
    {
     "data": {
      "text/plain": [
       "((2253, 22), (751, 22), (2253,), (751,))"
      ]
     },
     "execution_count": 32,
     "metadata": {},
     "output_type": "execute_result"
    }
   ],
   "source": [
    "X_train, X_valid, y_train, y_valid = train_test_split(\n",
    "    clean_train.drop('imdb_score_binned', axis=1), clean_train['imdb_score_binned'], \n",
    "    test_size=0.25, random_state=42\n",
    ")\n",
    "\n",
    "X_train.shape, X_valid.shape, y_train.shape, y_valid.shape"
   ]
  },
  {
   "cell_type": "markdown",
   "metadata": {},
   "source": [
    "### **Standardization**"
   ]
  },
  {
   "cell_type": "code",
   "execution_count": 33,
   "metadata": {},
   "outputs": [],
   "source": [
    "from sklearn.preprocessing import StandardScaler"
   ]
  },
  {
   "cell_type": "code",
   "execution_count": 34,
   "metadata": {},
   "outputs": [],
   "source": [
    "scaler = StandardScaler().fit(X_train)\n",
    "X_train_scaled = scaler.transform(X_train)\n",
    "X_valid_scaled = scaler.transform(X_valid)"
   ]
  },
  {
   "cell_type": "markdown",
   "metadata": {},
   "source": [
    "# Model Fitting"
   ]
  },
  {
   "cell_type": "code",
   "execution_count": 35,
   "metadata": {},
   "outputs": [],
   "source": [
    "from sklearn.dummy import DummyClassifier\n",
    "from sklearn.tree import DecisionTreeClassifier \n",
    "from sklearn.ensemble import RandomForestClassifier\n",
    "from sklearn.model_selection import validation_curve"
   ]
  },
  {
   "cell_type": "code",
   "execution_count": 36,
   "metadata": {},
   "outputs": [],
   "source": [
    "from sklearn.metrics import confusion_matrix, classification_report"
   ]
  },
  {
   "cell_type": "markdown",
   "metadata": {},
   "source": [
    "# **0R**\n",
    "- Baseline"
   ]
  },
  {
   "cell_type": "code",
   "execution_count": 37,
   "metadata": {},
   "outputs": [
    {
     "data": {
      "text/plain": [
       "(0.6120727918331114, 0.6125166444740346)"
      ]
     },
     "execution_count": 37,
     "metadata": {},
     "output_type": "execute_result"
    }
   ],
   "source": [
    "zero_r = DummyClassifier(strategy='most_frequent')\n",
    "zero_r.fit(X_train, y_train)\n",
    "zero_r.score(X_train, y_train), zero_r.score(X_valid, y_valid)  #accuracy"
   ]
  },
  {
   "cell_type": "markdown",
   "metadata": {},
   "source": [
    "- ### 0R Model Prediction on Testset"
   ]
  },
  {
   "cell_type": "code",
   "execution_count": 38,
   "metadata": {},
   "outputs": [],
   "source": [
    "# Make predictions on the test set\n",
    "y_pred = zero_r.predict(clean_test)\n",
    "\n",
    "# Create a new DataFrame with only the 'id' column and the predicted labels\n",
    "submission = test[['id']].copy()\n",
    "submission['imdb_score_binned'] = y_pred\n",
    "\n",
    "submission.to_csv('test_dataset_zeroR.csv', index=False)"
   ]
  },
  {
   "cell_type": "markdown",
   "metadata": {},
   "source": [
    "- ### Error Analysis"
   ]
  },
  {
   "cell_type": "code",
   "execution_count": 39,
   "metadata": {},
   "outputs": [
    {
     "name": "stdout",
     "output_type": "stream",
     "text": [
      "              precision    recall  f1-score   support\n",
      "\n",
      "           0       0.00      0.00      0.00         6\n",
      "           1       0.00      0.00      0.00        57\n",
      "           2       0.61      1.00      0.76       460\n",
      "           3       0.00      0.00      0.00       201\n",
      "           4       0.00      0.00      0.00        27\n",
      "\n",
      "    accuracy                           0.61       751\n",
      "   macro avg       0.12      0.20      0.15       751\n",
      "weighted avg       0.38      0.61      0.47       751\n",
      "\n"
     ]
    }
   ],
   "source": [
    "print(classification_report(y_valid, zero_r.predict(X_valid), zero_division=0))"
   ]
  },
  {
   "cell_type": "code",
   "execution_count": 40,
   "metadata": {},
   "outputs": [
    {
     "data": {
      "text/plain": [
       "array([[  0,   0,   6,   0,   0],\n",
       "       [  0,   0,  57,   0,   0],\n",
       "       [  0,   0, 460,   0,   0],\n",
       "       [  0,   0, 201,   0,   0],\n",
       "       [  0,   0,  27,   0,   0]], dtype=int64)"
      ]
     },
     "execution_count": 40,
     "metadata": {},
     "output_type": "execute_result"
    }
   ],
   "source": [
    "confusion_matrix(y_valid, zero_r.predict(X_valid))"
   ]
  },
  {
   "cell_type": "code",
   "execution_count": 41,
   "metadata": {},
   "outputs": [
    {
     "data": {
      "text/plain": [
       "<Axes: >"
      ]
     },
     "execution_count": 41,
     "metadata": {},
     "output_type": "execute_result"
    },
    {
     "data": {
      "image/png": "[encoded data removed]",
      "text/plain": [
       "<Figure size 640x480 with 2 Axes>"
      ]
     },
     "metadata": {},
     "output_type": "display_data"
    }
   ],
   "source": [
    "sns.heatmap(confusion_matrix(y_valid, zero_r.predict(X_valid)), annot=True, cmap='cividis')"
   ]
  },
  {
   "cell_type": "markdown",
   "metadata": {},
   "source": [
    "# **Decision Trees & Random Forests** "
   ]
  },
  {
   "cell_type": "markdown",
   "metadata": {},
   "source": [
    "## **Decision Trees**"
   ]
  },
  {
   "cell_type": "code",
   "execution_count": 42,
   "metadata": {},
   "outputs": [
    {
     "data": {
      "text/plain": [
       "(1.0, 0.5885486018641811)"
      ]
     },
     "execution_count": 42,
     "metadata": {},
     "output_type": "execute_result"
    }
   ],
   "source": [
    "dt = DecisionTreeClassifier(random_state=42).fit(X_train, y_train)  \n",
    "dt.score(X_train, y_train), dt.score(X_valid, y_valid)  #accuracy"
   ]
  },
  {
   "cell_type": "code",
   "execution_count": 43,
   "metadata": {},
   "outputs": [],
   "source": [
    "# Make predictions on the test set\n",
    "y_pred = dt.predict(clean_test)\n",
    "\n",
    "# Create a new DataFrame with only the 'id' column and the predicted labels\n",
    "submission = test[['id']].copy()\n",
    "submission['imdb_score_binned'] = y_pred\n",
    "\n",
    "submission.to_csv('test_dataset_dt_before tuning.csv', index=False)"
   ]
  },
  {
   "cell_type": "markdown",
   "metadata": {},
   "source": [
    "- #### **Hyperparameter Tuning**"
   ]
  },
  {
   "cell_type": "code",
   "execution_count": 44,
   "metadata": {},
   "outputs": [],
   "source": [
    "# Example values for max_depth\n",
    "param_range = np.arange(1, 50, 2)\n",
    "\n",
    "# Calculate the training and test scores using validation_curve\n",
    "dt_train_scores, dt_valid_scores = validation_curve(\n",
    "    DecisionTreeClassifier(random_state=42), X_train, y_train,\n",
    "    param_name='max_depth', param_range=param_range, cv=5, n_jobs=-1\n",
    ")"
   ]
  },
  {
   "cell_type": "code",
   "execution_count": 45,
   "metadata": {},
   "outputs": [],
   "source": [
    "dt_mean_train_scores = np.mean(dt_train_scores, axis=1)\n",
    "dt_std_train_scores = np.std(dt_train_scores, axis=1)\n",
    "dt_mean_valid_scores = np.mean(dt_valid_scores, axis=1)\n",
    "dt_std_valid_scores = np.std(dt_valid_scores, axis=1)"
   ]
  },
  {
   "cell_type": "code",
   "execution_count": 46,
   "metadata": {},
   "outputs": [
    {
     "data": {
      "image/png": "[encoded data removed]",
      "text/plain": [
       "<Figure size 640x480 with 1 Axes>"
      ]
     },
     "metadata": {},
     "output_type": "display_data"
    }
   ],
   "source": [
    "plt.figure()\n",
    "plt.plot(param_range, dt_mean_train_scores, label='Training score', color='r', marker='o')\n",
    "plt.fill_between(param_range, dt_mean_train_scores - dt_std_train_scores, dt_mean_train_scores + dt_std_train_scores, alpha=0.2, color='r')\n",
    "plt.plot(param_range, dt_mean_valid_scores, label='Cross-validation score', color='b', marker='s', linestyle='--')\n",
    "plt.fill_between(param_range, dt_mean_valid_scores - dt_std_valid_scores, dt_mean_valid_scores + dt_std_valid_scores, alpha=0.2, color='b')\n",
    "\n",
    "plt.xlabel('Max Depth')\n",
    "plt.ylabel('Accuracy')\n",
    "#plt.title('Validation Curve for Decision Tree')\n",
    "plt.legend()\n",
    "plt.show()"
   ]
  },
  {
   "cell_type": "code",
   "execution_count": 47,
   "metadata": {},
   "outputs": [
    {
     "name": "stdout",
     "output_type": "stream",
     "text": [
      "The highest mean_valid_scores is 0.6839724069967972, and the corresponding value in max_depth is 7.\n"
     ]
    }
   ],
   "source": [
    "# Find the index of the highest mean_valid_scores\n",
    "index = np.argmax(dt_mean_valid_scores)\n",
    "\n",
    "# Find the corresponding value in param_range\n",
    "best_param_value = param_range[index]\n",
    "\n",
    "print(f\"The highest mean_valid_scores is {dt_mean_valid_scores[index]}, and the corresponding value in max_depth is {best_param_value}.\")"
   ]
  },
  {
   "cell_type": "code",
   "execution_count": 48,
   "metadata": {},
   "outputs": [
    {
     "data": {
      "text/plain": [
       "(0.7656458055925432, 0.6844207723035952)"
      ]
     },
     "execution_count": 48,
     "metadata": {},
     "output_type": "execute_result"
    }
   ],
   "source": [
    "# refit using the best hyperparameter\n",
    "dt = DecisionTreeClassifier(max_depth=best_param_value, random_state=42).fit(X_train, y_train)  \n",
    "dt.score(X_train, y_train), dt.score(X_valid, y_valid)"
   ]
  },
  {
   "cell_type": "markdown",
   "metadata": {},
   "source": [
    "- ### Decision Trees Model Prediction on Testset"
   ]
  },
  {
   "cell_type": "code",
   "execution_count": 49,
   "metadata": {},
   "outputs": [],
   "source": [
    "# Make predictions on the test set\n",
    "y_pred = dt.predict(clean_test)\n",
    "\n",
    "# Create a new DataFrame with only the 'id' column and the predicted labels\n",
    "submission = test[['id']].copy()\n",
    "submission['imdb_score_binned'] = y_pred\n",
    "\n",
    "submission.to_csv('test_dataset_dt_after tuning.csv', index=False)"
   ]
  },
  {
   "cell_type": "markdown",
   "metadata": {},
   "source": [
    "- ### Error Analysis"
   ]
  },
  {
   "cell_type": "code",
   "execution_count": 50,
   "metadata": {},
   "outputs": [
    {
     "name": "stdout",
     "output_type": "stream",
     "text": [
      "              precision    recall  f1-score   support\n",
      "\n",
      "           0       0.00      0.00      0.00         6\n",
      "           1       1.00      0.05      0.10        57\n",
      "           2       0.72      0.87      0.79       460\n",
      "           3       0.58      0.49      0.53       201\n",
      "           4       0.67      0.44      0.53        27\n",
      "\n",
      "    accuracy                           0.68       751\n",
      "   macro avg       0.59      0.37      0.39       751\n",
      "weighted avg       0.69      0.68      0.65       751\n",
      "\n"
     ]
    }
   ],
   "source": [
    "print(classification_report(y_valid, dt.predict(X_valid), zero_division=0))"
   ]
  },
  {
   "cell_type": "code",
   "execution_count": 51,
   "metadata": {},
   "outputs": [
    {
     "data": {
      "text/plain": [
       "array([[  0,   0,   6,   0,   0],\n",
       "       [  0,   3,  52,   2,   0],\n",
       "       [  0,   0, 400,  59,   1],\n",
       "       [  0,   0,  97,  99,   5],\n",
       "       [  0,   0,   4,  11,  12]], dtype=int64)"
      ]
     },
     "execution_count": 51,
     "metadata": {},
     "output_type": "execute_result"
    }
   ],
   "source": [
    "confusion_matrix(y_valid, dt.predict(X_valid))"
   ]
  },
  {
   "cell_type": "code",
   "execution_count": 52,
   "metadata": {},
   "outputs": [
    {
     "data": {
      "text/plain": [
       "<Axes: >"
      ]
     },
     "execution_count": 52,
     "metadata": {},
     "output_type": "execute_result"
    },
    {
     "data": {
      "image/png": "[encoded data removed]",
      "text/plain": [
       "<Figure size 640x480 with 2 Axes>"
      ]
     },
     "metadata": {},
     "output_type": "display_data"
    }
   ],
   "source": [
    "sns.heatmap(confusion_matrix(y_valid, dt.predict(X_valid)), annot=True, cmap='cividis')"
   ]
  },
  {
   "cell_type": "markdown",
   "metadata": {},
   "source": [
    "## **Random Forests**"
   ]
  },
  {
   "cell_type": "code",
   "execution_count": 53,
   "metadata": {},
   "outputs": [
    {
     "data": {
      "text/plain": [
       "(1.0, 0.711051930758988)"
      ]
     },
     "execution_count": 53,
     "metadata": {},
     "output_type": "execute_result"
    }
   ],
   "source": [
    "rf = RandomForestClassifier(random_state=42).fit(X_train, y_train)\n",
    "rf.score(X_train, y_train), rf.score(X_valid, y_valid)"
   ]
  },
  {
   "cell_type": "code",
   "execution_count": 54,
   "metadata": {},
   "outputs": [],
   "source": [
    "# Make predictions on the test set\n",
    "y_pred = rf.predict(clean_test)\n",
    "\n",
    "# Create a new DataFrame with only the 'id' column and the predicted labels\n",
    "submission = test[['id']].copy()\n",
    "submission['imdb_score_binned'] = y_pred\n",
    "\n",
    "submission.to_csv('test_dataset_rf_before tuning.csv', index=False)"
   ]
  },
  {
   "cell_type": "markdown",
   "metadata": {},
   "source": [
    "- **Hyperparameter Tuning**"
   ]
  },
  {
   "cell_type": "code",
   "execution_count": 55,
   "metadata": {},
   "outputs": [],
   "source": [
    "# Example values for n_estimators\n",
    "param_range = np.linspace(10, 500, 50).astype(int)\n",
    "\n",
    "rf_train_scores, rf_valid_scores = validation_curve(\n",
    "    RandomForestClassifier(random_state=42), X_train, y_train,\n",
    "    param_name='n_estimators', param_range=param_range, cv=5, n_jobs=-1\n",
    ")"
   ]
  },
  {
   "cell_type": "code",
   "execution_count": 56,
   "metadata": {},
   "outputs": [],
   "source": [
    "rf_mean_train_scores = np.mean(rf_train_scores, axis=1)\n",
    "rf_std_train_scores = np.std(rf_train_scores, axis=1)\n",
    "rf_mean_valid_scores = np.mean(rf_valid_scores, axis=1)\n",
    "rf_std_valid_scores = np.std(rf_valid_scores, axis=1)"
   ]
  },
  {
   "cell_type": "code",
   "execution_count": 57,
   "metadata": {},
   "outputs": [
    {
     "data": {
      "image/png": "[encoded data removed]",
      "text/plain": [
       "<Figure size 640x480 with 1 Axes>"
      ]
     },
     "metadata": {},
     "output_type": "display_data"
    }
   ],
   "source": [
    "plt.semilogx(param_range, rf_mean_train_scores, label='Training score', color='r')\n",
    "plt.fill_between(param_range, rf_mean_train_scores - rf_std_train_scores, rf_mean_train_scores + rf_std_train_scores, alpha=0.2, color='r')\n",
    "plt.semilogx(param_range, rf_mean_valid_scores, label='Cross-validation score', color='b', linestyle='--')\n",
    "plt.fill_between(param_range, rf_mean_valid_scores - rf_std_valid_scores, rf_mean_valid_scores + rf_std_valid_scores, alpha=0.2, color='b')\n",
    "plt.xlabel('Number of Estimators in Log Scale')\n",
    "plt.ylabel('Accuracy')\n",
    "#plt.title('Validation Curve for hyperparamter n_estimators in Random Forest')\n",
    "plt.legend()\n",
    "plt.show()"
   ]
  },
  {
   "cell_type": "code",
   "execution_count": 58,
   "metadata": {},
   "outputs": [
    {
     "name": "stdout",
     "output_type": "stream",
     "text": [
      "The highest mean_valid_scores is 0.7137068243409708, and the corresponding value in param_range is 330.\n"
     ]
    }
   ],
   "source": [
    "# Find the index of the highest mean_valid_scores\n",
    "index = np.argmax(rf_mean_valid_scores)\n",
    "\n",
    "# Find the corresponding value in param_range\n",
    "best_param_value = param_range[index]\n",
    "\n",
    "print(f\"The highest mean_valid_scores is {rf_mean_valid_scores[index]}, and the corresponding value in param_range is {best_param_value}.\")"
   ]
  },
  {
   "cell_type": "code",
   "execution_count": 59,
   "metadata": {},
   "outputs": [
    {
     "data": {
      "text/plain": [
       "(1.0, 0.7203728362183754)"
      ]
     },
     "execution_count": 59,
     "metadata": {},
     "output_type": "execute_result"
    }
   ],
   "source": [
    "# refit using the best hyperparameter\n",
    "rf = RandomForestClassifier(n_estimators=best_param_value, random_state=42).fit(X_train, y_train)\n",
    "rf.score(X_train, y_train), rf.score(X_valid, y_valid)"
   ]
  },
  {
   "cell_type": "code",
   "execution_count": 60,
   "metadata": {},
   "outputs": [
    {
     "data": {
      "text/plain": [
       "num_voted_users              0.133946\n",
       "num_user_for_reviews         0.088895\n",
       "duration                     0.077899\n",
       "title_year                   0.072628\n",
       "gross                        0.069883\n",
       "num_critic_for_reviews       0.066573\n",
       "director_facebook_likes      0.062097\n",
       "actor_3_facebook_likes       0.060847\n",
       "movie_facebook_likes         0.060367\n",
       "cast_total_facebook_likes    0.056810\n",
       "actor_2_facebook_likes       0.055622\n",
       "average_degree_centrality    0.049972\n",
       "actor_1_facebook_likes       0.048851\n",
       "facenumber_in_poster         0.026289\n",
       "content_rating_PG-13         0.014392\n",
       "content_rating_R             0.011663\n",
       "language                     0.011027\n",
       "country_USA                  0.009214\n",
       "content_rating_PG            0.007280\n",
       "country_UK                   0.006143\n",
       "country_Other                0.005402\n",
       "content_rating_Other         0.004202\n",
       "dtype: float64"
      ]
     },
     "execution_count": 60,
     "metadata": {},
     "output_type": "execute_result"
    }
   ],
   "source": [
    "pd.Series(rf.feature_importances_, index=X_train.columns).sort_values(ascending=False)"
   ]
  },
  {
   "cell_type": "code",
   "execution_count": 61,
   "metadata": {},
   "outputs": [
    {
     "data": {
      "image/png": "[encoded data removed]",
      "text/plain": [
       "<Figure size 640x480 with 1 Axes>"
      ]
     },
     "metadata": {},
     "output_type": "display_data"
    }
   ],
   "source": [
    "plot = pd.Series(rf.feature_importances_, index=X_train.columns).sort_values(ascending=True).plot(kind='barh', color='skyblue')"
   ]
  },
  {
   "cell_type": "markdown",
   "metadata": {},
   "source": [
    "- ### Random Forests Model Prediction on Testset"
   ]
  },
  {
   "cell_type": "code",
   "execution_count": 62,
   "metadata": {},
   "outputs": [],
   "source": [
    "# Make predictions on the test set\n",
    "y_pred = rf.predict(clean_test)\n",
    "\n",
    "# Create a new DataFrame with only the 'id' column and the predicted labels\n",
    "submission = test[['id']].copy()\n",
    "submission['imdb_score_binned'] = y_pred\n",
    "\n",
    "submission.to_csv('test_dataset_rf_after tuning.csv', index=False)"
   ]
  },
  {
   "cell_type": "markdown",
   "metadata": {},
   "source": [
    "- ### Error Analysis"
   ]
  },
  {
   "cell_type": "code",
   "execution_count": 63,
   "metadata": {},
   "outputs": [
    {
     "name": "stdout",
     "output_type": "stream",
     "text": [
      "              precision    recall  f1-score   support\n",
      "\n",
      "           0       0.00      0.00      0.00         6\n",
      "           1       0.00      0.00      0.00        57\n",
      "           2       0.73      0.93      0.82       460\n",
      "           3       0.69      0.51      0.58       201\n",
      "           4       0.75      0.44      0.56        27\n",
      "\n",
      "    accuracy                           0.72       751\n",
      "   macro avg       0.43      0.38      0.39       751\n",
      "weighted avg       0.66      0.72      0.68       751\n",
      "\n"
     ]
    }
   ],
   "source": [
    "print(classification_report(y_valid, rf.predict(X_valid), zero_division=0))"
   ]
  },
  {
   "cell_type": "code",
   "execution_count": 64,
   "metadata": {},
   "outputs": [
    {
     "data": {
      "text/plain": [
       "array([[  0,   0,   6,   0,   0],\n",
       "       [  0,   0,  57,   0,   0],\n",
       "       [  0,   0, 427,  32,   1],\n",
       "       [  0,   0,  96, 102,   3],\n",
       "       [  0,   0,   1,  14,  12]], dtype=int64)"
      ]
     },
     "execution_count": 64,
     "metadata": {},
     "output_type": "execute_result"
    }
   ],
   "source": [
    "confusion_matrix(y_valid, rf.predict(X_valid))"
   ]
  },
  {
   "cell_type": "code",
   "execution_count": 65,
   "metadata": {},
   "outputs": [
    {
     "data": {
      "text/plain": [
       "<Axes: >"
      ]
     },
     "execution_count": 65,
     "metadata": {},
     "output_type": "execute_result"
    },
    {
     "data": {
      "image/png": "[encoded data removed]",
      "text/plain": [
       "<Figure size 640x480 with 2 Axes>"
      ]
     },
     "metadata": {},
     "output_type": "display_data"
    }
   ],
   "source": [
    "sns.heatmap(confusion_matrix(y_valid, rf.predict(X_valid)), annot=True, cmap='cividis')"
   ]
  }
 ],
 "metadata": {
  "kernelspec": {
   "display_name": "base",
   "language": "python",
   "name": "python3"
  },
  "language_info": {
   "codemirror_mode": {
    "name": "ipython",
    "version": 3
   },
   "file_extension": ".py",
   "mimetype": "text/x-python",
   "name": "python",
   "nbconvert_exporter": "python",
   "pygments_lexer": "ipython3",
   "version": "3.11.3"
  }
 },
 "nbformat": 4,
 "nbformat_minor": 2
}
